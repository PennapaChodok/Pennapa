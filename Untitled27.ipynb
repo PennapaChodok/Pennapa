{
  "nbformat": 4,
  "nbformat_minor": 0,
  "metadata": {
    "colab": {
      "provenance": [],
      "authorship_tag": "ABX9TyPBJUCjWVbm9gE6DHzPfxhd",
      "include_colab_link": true
    },
    "kernelspec": {
      "name": "python3",
      "display_name": "Python 3"
    },
    "language_info": {
      "name": "python"
    }
  },
  "cells": [
    {
      "cell_type": "markdown",
      "metadata": {
        "id": "view-in-github",
        "colab_type": "text"
      },
      "source": [
        "<a href=\"https://colab.research.google.com/github/PennapaChodok/Pennapa/blob/main/Untitled27.ipynb\" target=\"_parent\"><img src=\"https://colab.research.google.com/assets/colab-badge.svg\" alt=\"Open In Colab\"/></a>"
      ]
    },
    {
      "cell_type": "code",
      "execution_count": 10,
      "metadata": {
        "colab": {
          "base_uri": "https://localhost:8080/"
        },
        "id": "wzxP6hlX4Hte",
        "outputId": "e488de8d-3901-4b2f-93c2-74ce5de0dbcc"
      },
      "outputs": [
        {
          "output_type": "stream",
          "name": "stdout",
          "text": [
            "\n",
            "กรุณากรอกค่าในช่วงที่กำหนด:\n",
            "กรุณากรอกแคลอรีต่ำสุด (kcal): 400\n",
            "กรุณากรอกแคลอรีสูงสุด (kcal): 700\n",
            "กรุณากรอกโปรตีนสูงสุด (กรัม): 21\n",
            "กรุณากรอกไขมันสูงสุด (กรัม): 60\n",
            "กรุณากรอกคาร์โบไฮเดรตสูงสุด (กรัม): 500\n",
            "กรุณากรอกโซเดียมสูงสุด (มิลลิกรัม): 400\n",
            "\n",
            "เมนูที่ตรงตามเงื่อนไข:\n",
            "ก๋วยเตี๋ยวผัดไทยใส่ไข่ - 478 kcal, 15.4g โปรตีน, 24.6g ไขมัน, 48.6g คาร์โบไฮเดรต, 0mg โซเดียม\n",
            "ก๋วยเตี๋ยวเส้นเล็กหมูตับแห้ง - 454 kcal, 16.4g โปรตีน, 24.4g ไขมัน, 42.4g คาร์โบไฮเดรต, 0mg โซเดียม\n",
            "ข้าวราดไข่เจียวสมุนไพร - 420 kcal, 10.12g โปรตีน, 20.2g ไขมัน, 49.3g คาร์โบไฮเดรต, 192mg โซเดียม\n",
            "ข้าวราดไข่เจียวหมูสับ - 472 kcal, 16.3g โปรตีน, 31.12g ไขมัน, 31.86g คาร์โบไฮเดรต, 400mg โซเดียม\n",
            "ข้าวเหนียวชุบไข่ปิ้ง - 462 kcal, 4.8g โปรตีน, 3.6g ไขมัน, 102.8g คาร์โบไฮเดรต, 0mg โซเดียม\n"
          ]
        }
      ],
      "source": [
        "import pandas as pd\n",
        "\n",
        "# อ่านไฟล์ CSV\n",
        "try:\n",
        "    menu = pd.read_csv('menu.csv')\n",
        "    #print(\"ข้อมูลที่อ่านจากไฟล์:\")\n",
        "    #print(menu)\n",
        "\n",
        "    # ตรวจสอบคอลัมน์ใน DataFrame\n",
        "    required_columns = ['อาหาร', 'kcal', 'protein', 'fat', 'carbo', 'sodium']\n",
        "    if all(col in menu.columns for col in required_columns):\n",
        "        # แสดงชนิดของข้อมูลในแต่ละคอลัมน์เพื่อความชัดเจน\n",
        "        #print(\"\\nชนิดข้อมูลในแต่ละคอลัมน์:\")\n",
        "        #print(menu.dtypes)\n",
        "\n",
        "        # ข้อกำหนดของแต่ละคอลัมน์\n",
        "        print(\"\\nกรุณากรอกค่าในช่วงที่กำหนด:\")\n",
        "\n",
        "        # กรอกช่วงแคลอรี\n",
        "        min_kcal = int(input(\"กรุณากรอกแคลอรีต่ำสุด (kcal): \"))\n",
        "        max_kcal = int(input(\"กรุณากรอกแคลอรีสูงสุด (kcal): \"))\n",
        "\n",
        "        # กรอกโปรตีน\n",
        "        max_protein = int(input(\"กรุณากรอกโปรตีนสูงสุด (กรัม): \"))\n",
        "\n",
        "        # กรอกไขมัน\n",
        "        max_fat = int(input(\"กรุณากรอกไขมันสูงสุด (กรัม): \"))\n",
        "\n",
        "        # กรอกคาร์โบไฮเดรต\n",
        "        max_carbo = int(input(\"กรุณากรอกคาร์โบไฮเดรตสูงสุด (กรัม): \"))\n",
        "\n",
        "        # กรอกโซเดียม\n",
        "        max_sodium = int(input(\"กรุณากรอกโซเดียมสูงสุด (มิลลิกรัม): \"))\n",
        "\n",
        "        # กรองข้อมูลตามเงื่อนไขที่กรอก\n",
        "        filtered_menu = menu[\n",
        "            (menu['kcal'] >= min_kcal) & (menu['kcal'] <= max_kcal) &\n",
        "            (menu['protein'] <= max_protein) & (menu['fat'] <= max_fat) &\n",
        "            (menu['carbo'] <= max_carbo) & (menu['sodium'] <= max_sodium)\n",
        "        ]\n",
        "\n",
        "        # แสดงผลลัพธ์\n",
        "        if not filtered_menu.empty:\n",
        "            print(\"\\nเมนูที่ตรงตามเงื่อนไข:\")\n",
        "            for index, row in filtered_menu.iterrows():\n",
        "                print(f\"{row['อาหาร']} - {row['kcal']} kcal, {row['protein']}g โปรตีน, {row['fat']}g ไขมัน, {row['carbo']}g คาร์โบไฮเดรต, {row['sodium']}mg โซเดียม\")\n",
        "        else:\n",
        "            print(\"\\nไม่พบเมนูที่ตรงตามเงื่อนไขที่กำหนด\")\n",
        "\n",
        "    else:\n",
        "        print(\"\\nไฟล์ CSV ไม่มีคอลัมน์ที่จำเป็น (อาหาร, kcal, protein, fat, carbo, sodium)\")\n",
        "\n",
        "except FileNotFoundError:\n",
        "    print(\"\\nไม่พบไฟล์ 'menu.csv'\")\n",
        "except pd.errors.EmptyDataError:\n",
        "    print(\"\\nไฟล์ 'menu.csv' ว่างเปล่า\")\n",
        "except Exception as e:\n",
        "    print(f\"\\nเกิดข้อผิดพลาด: {e}\")\n"
      ]
    },
    {
      "cell_type": "code",
      "source": [],
      "metadata": {
        "id": "iCdAM9HYNjtG"
      },
      "execution_count": null,
      "outputs": []
    }
  ]
}