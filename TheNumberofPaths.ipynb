{
  "nbformat": 4,
  "nbformat_minor": 0,
  "metadata": {
    "colab": {
      "provenance": [],
      "include_colab_link": true
    },
    "kernelspec": {
      "name": "python3",
      "display_name": "Python 3"
    },
    "language_info": {
      "name": "python"
    }
  },
  "cells": [
    {
      "cell_type": "markdown",
      "metadata": {
        "id": "view-in-github",
        "colab_type": "text"
      },
      "source": [
        "<a href=\"https://colab.research.google.com/github/PennapaChodok/Pennapa/blob/main/The_Number_of_Paths_.ipynb\" target=\"_parent\"><img src=\"https://colab.research.google.com/assets/colab-badge.svg\" alt=\"Open In Colab\"/></a>"
      ]
    },
    {
      "cell_type": "code",
      "execution_count": null,
      "metadata": {
        "id": "r2gbND1f3Ivp"
      },
      "outputs": [],
      "source": [
        "import math\n",
        "def sum(n,r):\n",
        "  \n",
        "  if r<n and float(r).is_integer() and r>0:\n",
        "    ans=math.factorial(n)/(math.factorial(n-r)*math.factorial(r))\n",
        "  elif r==n and float(r).is_integer() :\n",
        "    ans=1\n",
        "  elif r==0 and float(r).is_integer() :\n",
        "    ans=1\n",
        "  elif r==0 and r==n and float(r).is_integer() :\n",
        "    ans=1\n",
        "  else:\n",
        "    ans=0\n",
        "  return ans"
      ]
    },
    {
      "cell_type": "code",
      "source": [
        "import math\n",
        "def sum1(l,n,g,q): \n",
        "  if l>=g :\n",
        "    a=0\n",
        "    r=max(0,math.ceil((l-(2*g)+2)/(g-q)))+2\n",
        "    for j in range(r,n+1): \n",
        "        y=n-j+1\n",
        "        for t in range(1,g): \n",
        "            for i in range(1,g):\n",
        "              x=(l-t-i-(q*j)+(2*q))/(g-(2*q))\n",
        "              a=a+sum(j-2,x)*y \n",
        "    ans=a*4\n",
        "    return ans\n",
        "  else :\n",
        "    b=0 \n",
        "    r=max(0,math.ceil((l-(2*g)+2)/(g-q)))+2 \n",
        "    for j in range(r,n+1): \n",
        "        y=n-j+1\n",
        "        for t in range(1,g): \n",
        "            for i in range(1,g):\n",
        "               x=(l-t-i-(q*j)+(2*q))/(g-(2*q))\n",
        "               b=b+sum(j-2,x)*y \n",
        "    ans=(b*4)+(n*g)\n",
        "    return ans"
      ],
      "metadata": {
        "id": "XolbqDfOl0Ji"
      },
      "execution_count": null,
      "outputs": []
    },
    {
      "cell_type": "code",
      "source": [
        "sum1(6,3,6,2)"
      ],
      "metadata": {
        "colab": {
          "base_uri": "https://localhost:8080/"
        },
        "id": "UEgG4h8BmLTW",
        "outputId": "194a6e93-2a88-4063-8252-43ec912b98b7"
      },
      "execution_count": null,
      "outputs": [
        {
          "output_type": "execute_result",
          "data": {
            "text/plain": [
              "56"
            ]
          },
          "metadata": {},
          "execution_count": 4
        }
      ]
    }
  ]
}
